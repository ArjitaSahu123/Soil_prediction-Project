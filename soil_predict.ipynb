{
 "cells": [
  {
   "cell_type": "code",
   "execution_count": 45,
   "metadata": {},
   "outputs": [
    {
     "name": "stdout",
     "output_type": "stream",
     "text": [
      "First 5 rows:\n",
      "    N   P   K  temperature   humidity        ph    rainfall label  \\\n",
      "0  90  42  43    20.879744  82.002744  6.502985  202.935536  rice   \n",
      "1  85  58  41    21.770462  80.319644  7.038096  226.655537  rice   \n",
      "2  60  55  44    23.004459  82.320763  7.840207  263.964248  rice   \n",
      "3  74  35  40    26.491096  80.158363  6.980401  242.864034  rice   \n",
      "4  78  42  42    20.130175  81.604873  7.628473  262.717340  rice   \n",
      "\n",
      "   soil_moisture  soil_type  ...  organic_matter  irrigation_frequency  \\\n",
      "0      29.446064          2  ...        3.121395                     4   \n",
      "1      12.851183          3  ...        2.142021                     4   \n",
      "2      29.363913          2  ...        1.474974                     1   \n",
      "3      26.207732          3  ...        8.393907                     1   \n",
      "4      28.236236          2  ...        5.202285                     3   \n",
      "\n",
      "   crop_density  pest_pressure  fertilizer_usage  growth_stage  \\\n",
      "0     11.743910      57.607308        188.194958             1   \n",
      "1     16.797101      74.736879         70.963629             1   \n",
      "2     12.654395       1.034478        191.976077             1   \n",
      "3     10.864360      24.091888         55.761388             3   \n",
      "4     13.852910      38.811481        185.259702             2   \n",
      "\n",
      "   urban_area_proximity  water_source_type  frost_risk  water_usage_efficiency  \n",
      "0              2.719614                  3   95.649985                1.193293  \n",
      "1              4.714427                  2   77.265694                1.752672  \n",
      "2             30.431736                  2   18.192168                3.035541  \n",
      "3             10.861071                  3   82.818720                1.273341  \n",
      "4             47.190777                  3   25.466499                2.578671  \n",
      "\n",
      "[5 rows x 23 columns]\n",
      "\n",
      "Column Names:\n",
      "Index(['N', 'P', 'K', 'temperature', 'humidity', 'ph', 'rainfall', 'label',\n",
      "       'soil_moisture', 'soil_type', 'sunlight_exposure', 'wind_speed',\n",
      "       'co2_concentration', 'organic_matter', 'irrigation_frequency',\n",
      "       'crop_density', 'pest_pressure', 'fertilizer_usage', 'growth_stage',\n",
      "       'urban_area_proximity', 'water_source_type', 'frost_risk',\n",
      "       'water_usage_efficiency'],\n",
      "      dtype='object')\n",
      "\n",
      "Dataset Info:\n",
      "<class 'pandas.core.frame.DataFrame'>\n",
      "RangeIndex: 2200 entries, 0 to 2199\n",
      "Data columns (total 23 columns):\n",
      " #   Column                  Non-Null Count  Dtype  \n",
      "---  ------                  --------------  -----  \n",
      " 0   N                       2200 non-null   int64  \n",
      " 1   P                       2200 non-null   int64  \n",
      " 2   K                       2200 non-null   int64  \n",
      " 3   temperature             2200 non-null   float64\n",
      " 4   humidity                2200 non-null   float64\n",
      " 5   ph                      2200 non-null   float64\n",
      " 6   rainfall                2200 non-null   float64\n",
      " 7   label                   2200 non-null   object \n",
      " 8   soil_moisture           2200 non-null   float64\n",
      " 9   soil_type               2200 non-null   int64  \n",
      " 10  sunlight_exposure       2200 non-null   float64\n",
      " 11  wind_speed              2200 non-null   float64\n",
      " 12  co2_concentration       2200 non-null   float64\n",
      " 13  organic_matter          2200 non-null   float64\n",
      " 14  irrigation_frequency    2200 non-null   int64  \n",
      " 15  crop_density            2200 non-null   float64\n",
      " 16  pest_pressure           2200 non-null   float64\n",
      " 17  fertilizer_usage        2200 non-null   float64\n",
      " 18  growth_stage            2200 non-null   int64  \n",
      " 19  urban_area_proximity    2200 non-null   float64\n",
      " 20  water_source_type       2200 non-null   int64  \n",
      " 21  frost_risk              2200 non-null   float64\n",
      " 22  water_usage_efficiency  2200 non-null   float64\n",
      "dtypes: float64(15), int64(7), object(1)\n",
      "memory usage: 395.4+ KB\n",
      "None\n",
      "\n",
      "Summary Statistics:\n",
      "                 N            P            K  temperature     humidity  \\\n",
      "count  2200.000000  2200.000000  2200.000000  2200.000000  2200.000000   \n",
      "mean     50.551818    53.362727    48.149091    25.616244    71.481779   \n",
      "std      36.917334    32.985883    50.647931     5.063749    22.263812   \n",
      "min       0.000000     5.000000     5.000000     8.825675    14.258040   \n",
      "25%      21.000000    28.000000    20.000000    22.769375    60.261953   \n",
      "50%      37.000000    51.000000    32.000000    25.598693    80.473146   \n",
      "75%      84.250000    68.000000    49.000000    28.561654    89.948771   \n",
      "max     140.000000   145.000000   205.000000    43.675493    99.981876   \n",
      "\n",
      "                ph     rainfall  soil_moisture    soil_type  \\\n",
      "count  2200.000000  2200.000000    2200.000000  2200.000000   \n",
      "mean      6.469480   103.463655      20.151388     1.991364   \n",
      "std       0.773938    54.958389       5.793720     0.812263   \n",
      "min       3.504752    20.211267      10.024260     1.000000   \n",
      "25%       5.971693    64.551686      15.179949     1.000000   \n",
      "50%       6.425045    94.867624      20.088481     2.000000   \n",
      "75%       6.923643   124.267508      25.255146     3.000000   \n",
      "max       9.935091   298.560117      29.997860     3.000000   \n",
      "\n",
      "       sunlight_exposure  ...  organic_matter  irrigation_frequency  \\\n",
      "count        2200.000000  ...     2200.000000           2200.000000   \n",
      "mean            8.570609  ...        5.465652              3.515000   \n",
      "std             1.999382  ...        2.605294              1.697912   \n",
      "min             5.000710  ...        1.003338              1.000000   \n",
      "25%             6.904620  ...        3.203903              2.000000   \n",
      "50%             8.609968  ...        5.418049              4.000000   \n",
      "75%            10.220394  ...        7.686417              5.000000   \n",
      "max            11.991041  ...        9.999990              6.000000   \n",
      "\n",
      "       crop_density  pest_pressure  fertilizer_usage  growth_stage  \\\n",
      "count   2200.000000    2200.000000       2200.000000   2200.000000   \n",
      "mean      12.344959      49.850701        125.846403      1.999545   \n",
      "std        4.297494      28.886354         43.564527      0.818999   \n",
      "min        5.004341       0.038103         50.209990      1.000000   \n",
      "25%        8.585734      24.379866         88.030737      1.000000   \n",
      "50%       12.303616      49.982421        126.441536      2.000000   \n",
      "75%       15.975567      74.681904        163.850536      3.000000   \n",
      "max       19.988474      99.983849        199.982166      3.000000   \n",
      "\n",
      "       urban_area_proximity  water_source_type   frost_risk  \\\n",
      "count           2200.000000        2200.000000  2200.000000   \n",
      "mean              24.801013           2.003636    50.304701   \n",
      "std               14.523975           0.812021    28.580352   \n",
      "min                0.017756           1.000000     0.054911   \n",
      "25%               12.212594           1.000000    26.104674   \n",
      "50%               24.922548           2.000000    50.171934   \n",
      "75%               37.322761           3.000000    75.262676   \n",
      "max               49.992046           3.000000    99.957274   \n",
      "\n",
      "       water_usage_efficiency  \n",
      "count             2200.000000  \n",
      "mean                 2.990268  \n",
      "std                  1.139637  \n",
      "min                  1.002106  \n",
      "25%                  2.051814  \n",
      "50%                  2.968675  \n",
      "75%                  3.968736  \n",
      "max                  4.997130  \n",
      "\n",
      "[8 rows x 22 columns]\n"
     ]
    }
   ],
   "source": [
    "import pandas as pd\n",
    "\n",
    "# Load the dataset\n",
    "data = pd.read_csv('Crop_recommendationV2.csv')\n",
    "\n",
    "# Display the first 5 rows\n",
    "print(\"First 5 rows:\")\n",
    "print(data.head())\n",
    "\n",
    "# Check for column names and basic information\n",
    "print(\"\\nColumn Names:\")\n",
    "print(data.columns)\n",
    "\n",
    "print(\"\\nDataset Info:\")\n",
    "print(data.info())\n",
    "\n",
    "print(\"\\nSummary Statistics:\")\n",
    "print(data.describe())\n"
   ]
  },
  {
   "cell_type": "code",
   "execution_count": 46,
   "metadata": {},
   "outputs": [
    {
     "name": "stdout",
     "output_type": "stream",
     "text": [
      "    N   P   K  temperature   humidity        ph    rainfall label  \\\n",
      "0  90  42  43    20.879744  82.002744  6.502985  202.935536  rice   \n",
      "1  85  58  41    21.770462  80.319644  7.038096  226.655537  rice   \n",
      "2  60  55  44    23.004459  82.320763  7.840207  263.964248  rice   \n",
      "3  74  35  40    26.491096  80.158363  6.980401  242.864034  rice   \n",
      "4  78  42  42    20.130175  81.604873  7.628473  262.717340  rice   \n",
      "\n",
      "   soil_moisture  soil_type  ...  organic_matter  irrigation_frequency  \\\n",
      "0      29.446064          2  ...        3.121395                     4   \n",
      "1      12.851183          3  ...        2.142021                     4   \n",
      "2      29.363913          2  ...        1.474974                     1   \n",
      "3      26.207732          3  ...        8.393907                     1   \n",
      "4      28.236236          2  ...        5.202285                     3   \n",
      "\n",
      "   crop_density  pest_pressure  fertilizer_usage  growth_stage  \\\n",
      "0     11.743910      57.607308        188.194958             1   \n",
      "1     16.797101      74.736879         70.963629             1   \n",
      "2     12.654395       1.034478        191.976077             1   \n",
      "3     10.864360      24.091888         55.761388             3   \n",
      "4     13.852910      38.811481        185.259702             2   \n",
      "\n",
      "   urban_area_proximity  water_source_type  frost_risk  water_usage_efficiency  \n",
      "0              2.719614                  3   95.649985                1.193293  \n",
      "1              4.714427                  2   77.265694                1.752672  \n",
      "2             30.431736                  2   18.192168                3.035541  \n",
      "3             10.861071                  3   82.818720                1.273341  \n",
      "4             47.190777                  3   25.466499                2.578671  \n",
      "\n",
      "[5 rows x 23 columns]\n"
     ]
    }
   ],
   "source": [
    "import pandas as pd\n",
    "from sklearn.preprocessing import StandardScaler, LabelEncoder\n",
    "\n",
    "# Load the dataset\n",
    "data = pd.read_csv('Crop_recommendationV2.csv')\n",
    "\n",
    "# Preview data\n",
    "print(data.head())\n",
    "\n",
    "# ✅ Handle missing values (if any)\n",
    "data = data.dropna()\n",
    "\n",
    "# ✅ Encode the 'label' column (crop name)\n",
    "label_encoder = LabelEncoder()\n",
    "data['crop_label'] = label_encoder.fit_transform(data['label'])  # 🔁 Save into 'crop_label' instead\n",
    "\n",
    "# ✅ Now drop the original 'label' column\n",
    "data = data.drop(columns=['label'])\n",
    "\n",
    "# ✅ Define input features and target\n",
    "X = data.drop(columns=['N', 'P', 'K', 'temperature', 'humidity', 'ph', 'rainfall'])  # Only input features\n",
    "y = data[['N', 'P', 'K', 'temperature', 'humidity', 'ph', 'rainfall']]  # Output values\n",
    "\n",
    "# ✅ Scale the features\n",
    "scaler = StandardScaler()\n",
    "X_scaled = scaler.fit_transform(X)\n"
   ]
  },
  {
   "cell_type": "code",
   "execution_count": 47,
   "metadata": {},
   "outputs": [
    {
     "name": "stdout",
     "output_type": "stream",
     "text": [
      "Training set shape: (1760, 16)\n",
      "Testing set shape: (440, 16)\n"
     ]
    }
   ],
   "source": [
    "from sklearn.model_selection import train_test_split\n",
    "\n",
    "# Train-test split\n",
    "X_train, X_test, y_train, y_test = train_test_split(\n",
    "    X_scaled, y, test_size=0.2, random_state=42\n",
    ")\n",
    "\n",
    "print(\"Training set shape:\", X_train.shape)\n",
    "print(\"Testing set shape:\", X_test.shape)\n"
   ]
  },
  {
   "cell_type": "code",
   "execution_count": 48,
   "metadata": {},
   "outputs": [
    {
     "name": "stdout",
     "output_type": "stream",
     "text": [
      "Training Score: 0.9683738374253917\n",
      "Testing Score: 0.7526591343356596\n"
     ]
    }
   ],
   "source": [
    "from sklearn.ensemble import RandomForestRegressor\n",
    "from sklearn.multioutput import MultiOutputRegressor\n",
    "\n",
    "# Initialize and train the model\n",
    "rf_model = MultiOutputRegressor(RandomForestRegressor(n_estimators=100, random_state=42))\n",
    "rf_model.fit(X_train, y_train)\n",
    "\n",
    "# Evaluate the model\n",
    "print(\"Training Score:\", rf_model.score(X_train, y_train))\n",
    "print(\"Testing Score:\", rf_model.score(X_test, y_test))  "
   ]
  },
  {
   "cell_type": "code",
   "execution_count": 49,
   "metadata": {},
   "outputs": [
    {
     "data": {
      "text/plain": [
       "['label_encoder.pkl']"
      ]
     },
     "execution_count": 49,
     "metadata": {},
     "output_type": "execute_result"
    }
   ],
   "source": [
    "import joblib\n",
    "\n",
    "joblib.dump(rf_model, \"model.pkl\")\n",
    "joblib.dump(scaler, \"scaler.pkl\")\n",
    "joblib.dump(label_encoder, \"label_encoder.pkl\")\n"
   ]
  },
  {
   "cell_type": "code",
   "execution_count": 50,
   "metadata": {},
   "outputs": [],
   "source": [
    "# import numpy as np\n",
    "\n",
    "# def predict_adjustments(user_input):\n",
    "#     \"\"\"\n",
    "#     Predict adjustments for soil/environment parameters.\n",
    "#     Args:\n",
    "#         user_input (dict): Soil/environment parameters provided by the user.\n",
    "#     \"\"\"\n",
    "#     # Convert user input to DataFrame\n",
    "#     input_data = pd.DataFrame([user_input])\n",
    "#     input_data_scaled = scaler.transform(input_data)  # Scale input data\n",
    "    \n",
    "#     # Predict adjustments\n",
    "#     predicted_adjustments = rf_model.predict(input_data_scaled)\n",
    "    \n",
    "#     # Display the results\n",
    "#     print(\"\\nPredicted Adjustments Needed:\")\n",
    "#     print(f\"N: {predicted_adjustments[0][0]:.2f}\")\n",
    "#     print(f\"P: {predicted_adjustments[0][1]:.2f}\")\n",
    "#     print(f\"K: {predicted_adjustments[0][2]:.2f}\")\n",
    "#     print(f\"Temperature: {predicted_adjustments[0][3]:.2f}°C\")\n",
    "#     print(f\"Humidity: {predicted_adjustments[0][4]:.2f}%\")\n",
    "#     print(f\"pH: {predicted_adjustments[0][5]:.2f}\")\n",
    "#     print(f\"Rainfall: {predicted_adjustments[0][6]:.2f} mm\")\n",
    "import numpy as np\n",
    "import pandas as pd  # ensure this is imported at the top\n",
    "\n",
    "def predict_adjustments(user_input):\n",
    "    \"\"\"\n",
    "    Predict adjustments for soil/environment parameters.\n",
    "    Args:\n",
    "        user_input (dict): Soil/environment parameters provided by the user.\n",
    "    Returns:\n",
    "        list: Predicted adjustment values\n",
    "    \"\"\"\n",
    "\n",
    "    try:\n",
    "        # Feature order must match training\n",
    "        feature_order = [\n",
    "            'soil_moisture', 'soil_type', 'sunlight_exposure', 'wind_speed', \n",
    "            'co2_concentration', 'organic_matter', 'irrigation_frequency',\n",
    "            'crop_density', 'pest_pressure', 'fertilizer_usage', 'growth_stage',\n",
    "            'urban_area_proximity', 'water_source_type', 'frost_risk',\n",
    "            'water_usage_efficiency', 'crop_label'\n",
    "        ]\n",
    "\n",
    "        # Ensure all required fields are present\n",
    "        for feature in feature_order:\n",
    "            if feature not in user_input:\n",
    "                raise ValueError(f\"Missing feature: {feature}\")\n",
    "\n",
    "        # Convert to DataFrame and enforce column order\n",
    "        input_df = pd.DataFrame([user_input])[feature_order]\n",
    "        input_scaled = scaler.transform(input_df)\n",
    "        prediction = rf_model.predict(input_scaled)[0]\n",
    "\n",
    "        # Output the results\n",
    "        print(\"\\n📊 Predicted Adjustments Needed:\")\n",
    "        print(f\"N: {prediction[0]:.2f}\")\n",
    "        print(f\"P: {prediction[1]:.2f}\")\n",
    "        print(f\"K: {prediction[2]:.2f}\")\n",
    "        print(f\"Temperature: {prediction[3]:.2f} °C\")\n",
    "        print(f\"Humidity: {prediction[4]:.2f} %\")\n",
    "        print(f\"pH: {prediction[5]:.2f}\")\n",
    "        print(f\"Rainfall: {prediction[6]:.2f} mm\")\n",
    "\n",
    "        return prediction\n",
    "\n",
    "    except Exception as e:\n",
    "        print(\"❌ Error in prediction:\", e)\n"
   ]
  },
  {
   "cell_type": "code",
   "execution_count": 51,
   "metadata": {},
   "outputs": [
    {
     "name": "stdout",
     "output_type": "stream",
     "text": [
      "\n",
      "📊 Predicted Adjustments Needed:\n",
      "N: 23.24\n",
      "P: 12.62\n",
      "K: 30.06\n",
      "Temperature: 26.53 °C\n",
      "Humidity: 93.81 %\n",
      "pH: 5.76\n",
      "Rainfall: 171.74 mm\n"
     ]
    },
    {
     "data": {
      "text/plain": [
       "array([ 23.24      ,  12.62      ,  30.06      ,  26.52583435,\n",
       "        93.81398148,   5.75602729, 171.74344385])"
      ]
     },
     "execution_count": 51,
     "metadata": {},
     "output_type": "execute_result"
    }
   ],
   "source": [
    "user_input = {\n",
    "    'soil_moisture': 30,\n",
    "    'soil_type': 1,                # e.g., Sandy\n",
    "    'sunlight_exposure': 5,\n",
    "    'wind_speed': 8,\n",
    "    'co2_concentration': 400,\n",
    "    'organic_matter': 3,\n",
    "    'irrigation_frequency': 2,\n",
    "    'crop_density': 10,\n",
    "    'pest_pressure': 0,\n",
    "    'fertilizer_usage': 100,\n",
    "    'growth_stage': 1,\n",
    "    'urban_area_proximity': 2,\n",
    "    'water_source_type': 1,        # e.g., River\n",
    "    'frost_risk': 0,\n",
    "    'water_usage_efficiency': 1,\n",
    "    'crop_label': 4                # this is encoded value of crop like 'Maize'\n",
    "}\n",
    "\n",
    "\n",
    "predict_adjustments(user_input)\n"
   ]
  },
  {
   "cell_type": "code",
   "execution_count": null,
   "metadata": {},
   "outputs": [],
   "source": []
  },
  {
   "cell_type": "code",
   "execution_count": 52,
   "metadata": {},
   "outputs": [
    {
     "name": "stdout",
     "output_type": "stream",
     "text": [
      "Features used during training:\n",
      "Index(['N', 'P', 'K', 'temperature', 'humidity', 'ph', 'rainfall',\n",
      "       'soil_moisture', 'soil_type', 'sunlight_exposure', 'wind_speed',\n",
      "       'co2_concentration', 'organic_matter', 'irrigation_frequency',\n",
      "       'crop_density', 'pest_pressure', 'fertilizer_usage', 'growth_stage',\n",
      "       'urban_area_proximity', 'water_source_type', 'frost_risk',\n",
      "       'water_usage_efficiency', 'crop_label'],\n",
      "      dtype='object')\n"
     ]
    }
   ],
   "source": [
    "print(\"Features used during training:\")\n",
    "print(data.columns)\n"
   ]
  },
  {
   "cell_type": "code",
   "execution_count": 53,
   "metadata": {},
   "outputs": [],
   "source": [
    "# def predict_adjustments(user_input):\n",
    "#     \"\"\"\n",
    "#     Predict adjustments for soil/environment parameters.\n",
    "#     Args:\n",
    "#         user_input (dict): Soil/environment parameters provided by the user.\n",
    "#     \"\"\"\n",
    "#     # Define the complete list of features based on the training dataset\n",
    "#     feature_order = ['N', 'P', 'K', 'temperature', 'humidity', 'ph', 'rainfall', \n",
    "#                      'soil_moisture', 'soil_type', 'sunlight_exposure', 'wind_speed',\n",
    "#                      'co2_concentration', 'organic_matter', 'irrigation_frequency',\n",
    "#                      'crop_density', 'pest_pressure', 'fertilizer_usage', 'growth_stage',\n",
    "#                      'urban_area_proximity', 'water_source_type', 'frost_risk', \n",
    "#                      'water_usage_efficiency']\n",
    "\n",
    "#     # Ensure all missing features are filled with 0 or default values\n",
    "#     for feature in feature_order:\n",
    "#         if feature not in user_input:\n",
    "#             user_input[feature] = 0  # Fill with 0 if the feature is missing\n",
    "    \n",
    "#     # Convert user input to DataFrame and reorder columns\n",
    "#     input_data = pd.DataFrame([user_input])\n",
    "#     input_data = input_data[feature_order]  # Reorder columns to match training features\n",
    "    \n",
    "#     # Scale the input data\n",
    "#     input_data_scaled = scaler.transform(input_data)\n",
    "    \n",
    "#     # Predict adjustments\n",
    "#     predicted_adjustments = rf_model.predict(input_data_scaled)\n",
    "    \n",
    "#     # Display the results\n",
    "#     print(\"\\nPredicted Adjustments Needed:\")\n",
    "#     print(f\"N: {predicted_adjustments[0][0]:.2f}\")\n",
    "#     print(f\"P: {predicted_adjustments[0][1]:.2f}\")\n",
    "#     print(f\"K: {predicted_adjustments[0][2]:.2f}\")\n",
    "#     print(f\"Temperature: {predicted_adjustments[0][3]:.2f}°C\")\n",
    "#     print(f\"Humidity: {predicted_adjustments[0][4]:.2f}%\")\n",
    "#     print(f\"pH: {predicted_adjustments[0][5]:.2f}\")\n",
    "#     print(f\"Rainfall: {predicted_adjustments[0][6]:.2f} mm\")\n"
   ]
  },
  {
   "cell_type": "code",
   "execution_count": null,
   "metadata": {},
   "outputs": [],
   "source": []
  },
  {
   "cell_type": "code",
   "execution_count": 54,
   "metadata": {},
   "outputs": [],
   "source": [
    "# predicted_adjustments = predict_adjustments(user_input)\n"
   ]
  },
  {
   "cell_type": "code",
   "execution_count": null,
   "metadata": {},
   "outputs": [],
   "source": []
  },
  {
   "cell_type": "code",
   "execution_count": 55,
   "metadata": {},
   "outputs": [],
   "source": [
    "# user_input = {\n",
    "#     'soil_moisture': 30,\n",
    "#     'soil_type': 1,                # e.g., Sandy\n",
    "#     'sunlight_exposure': 5,\n",
    "#     'wind_speed': 8,\n",
    "#     'co2_concentration': 400,\n",
    "#     'organic_matter': 3,\n",
    "#     'irrigation_frequency': 2,\n",
    "#     'crop_density': 10,\n",
    "#     'pest_pressure': 0,\n",
    "#     'fertilizer_usage': 100,\n",
    "#     'growth_stage': 1,\n",
    "#     'urban_area_proximity': 2,\n",
    "#     'water_source_type': 1,        # e.g., River\n",
    "#     'frost_risk': 0,\n",
    "#     'water_usage_efficiency': 1,\n",
    "#     'crop_label': 4                # this is encoded value of crop like 'Maize'\n",
    "# }\n"
   ]
  },
  {
   "cell_type": "code",
   "execution_count": 56,
   "metadata": {},
   "outputs": [
    {
     "name": "stdout",
     "output_type": "stream",
     "text": [
      "\n",
      "📊 Predicted Adjustments Needed:\n",
      "N: 23.24\n",
      "P: 12.62\n",
      "K: 30.06\n",
      "Temperature: 26.53 °C\n",
      "Humidity: 93.81 %\n",
      "pH: 5.76\n",
      "Rainfall: 171.74 mm\n"
     ]
    },
    {
     "data": {
      "text/plain": [
       "array([ 23.24      ,  12.62      ,  30.06      ,  26.52583435,\n",
       "        93.81398148,   5.75602729, 171.74344385])"
      ]
     },
     "execution_count": 56,
     "metadata": {},
     "output_type": "execute_result"
    }
   ],
   "source": [
    "predict_adjustments(user_input)\n"
   ]
  },
  {
   "cell_type": "code",
   "execution_count": 57,
   "metadata": {},
   "outputs": [],
   "source": [
    "def generate_guidance(actual, predicted):\n",
    "    tips = []\n",
    "    for i, (label, unit) in enumerate([\n",
    "        (\"Nitrogen\", \"units\"), (\"Phosphorus\", \"units\"), (\"Potassium\", \"units\"),\n",
    "        (\"Temperature\", \"°C\"), (\"Humidity\", \"%\"), (\"pH\", \"\"), (\"Rainfall\", \"mm\")\n",
    "    ]):\n",
    "        diff = predicted[i] - actual[i]\n",
    "        if abs(diff) < 1:\n",
    "            tips.append(f\"✅ {label} is already optimal.\")\n",
    "        elif diff > 0:\n",
    "            tips.append(f\"📈 Increase {label} by ~{diff:.1f} {unit}.\")\n",
    "        else:\n",
    "            tips.append(f\"📉 Decrease {label} by ~{abs(diff):.1f} {unit}.\")\n",
    "    return tips\n"
   ]
  },
  {
   "cell_type": "code",
   "execution_count": 58,
   "metadata": {},
   "outputs": [
    {
     "name": "stdout",
     "output_type": "stream",
     "text": [
      "📈 Increase Nitrogen by ~3.2 units.\n",
      "📈 Increase Phosphorus by ~2.6 units.\n",
      "📈 Increase Potassium by ~10.1 units.\n",
      "📈 Increase Temperature by ~2.5 °C.\n",
      "📈 Increase Humidity by ~3.8 %.\n",
      "✅ pH is already optimal.\n",
      "📈 Increase Rainfall by ~1.7 mm.\n"
     ]
    }
   ],
   "source": [
    "actual_values = [20, 10, 20, 24, 90, 5.3, 170]  # example actual values\n",
    "guidance = generate_guidance(actual_values, predicted_adjustments)\n",
    "\n",
    "for line in guidance:\n",
    "    print(line)\n"
   ]
  },
  {
   "cell_type": "code",
   "execution_count": 59,
   "metadata": {},
   "outputs": [],
   "source": [
    "def recommend_fertilizer(predicted_adjustments):\n",
    "    n, p, k = predicted_adjustments[:3]\n",
    "    print(\"\\nFertilizer Recommendations:\")\n",
    "    if n > 0:\n",
    "        print(f\"Add Urea: {n * 2:.2f} kg (to increase Nitrogen)\")\n",
    "    if p > 0:\n",
    "        print(f\"Add DAP: {p * 1.5:.2f} kg (to increase Phosphorus)\")\n",
    "    if k > 0:\n",
    "        print(f\"Add Muriate of Potash: {k * 2:.2f} kg (to increase Potassium)\")\n"
   ]
  },
  {
   "cell_type": "code",
   "execution_count": 60,
   "metadata": {},
   "outputs": [],
   "source": [
    "def suggest_alternative_crops(user_input, predicted_adjustments):\n",
    "    if sum(abs(i) for i in predicted_adjustments[:3]) > 50:\n",
    "        print(\"\\nAlternative Crop Suggestions:\")\n",
    "        print(\"Based on current soil, you can grow: 'Wheat', 'Barley', or 'Corn'\")\n",
    "    else:\n",
    "        print(\"\\nThe soil is suitable for the selected crop.\")\n"
   ]
  },
  {
   "cell_type": "code",
   "execution_count": 61,
   "metadata": {},
   "outputs": [],
   "source": [
    "def recommend_irrigation(soil_moisture, rainfall):\n",
    "    print(\"\\nIrrigation Recommendations:\")\n",
    "    if soil_moisture < 20:\n",
    "        print(\"Irrigate immediately using drip irrigation.\")\n",
    "    elif rainfall > 50:\n",
    "        print(\"No irrigation needed; rainfall is sufficient.\")\n",
    "    else:\n",
    "        print(\"Monitor soil and weather closely. Moderate irrigation may be needed.\")\n",
    "\n"
   ]
  },
  {
   "cell_type": "code",
   "execution_count": 62,
   "metadata": {},
   "outputs": [],
   "source": [
    "import matplotlib.pyplot as plt\n",
    "\n",
    "def visualize_adjustments(predicted_adjustments):\n",
    "    adjustments = ['Nitrogen', 'Phosphorus', 'Potassium', 'Temperature', 'Humidity', 'pH', 'Rainfall']\n",
    "    \n",
    "    values = predicted_adjustments  # ✅ Directly use the 1D list or array\n",
    "\n",
    "    plt.figure(figsize=(10, 6))\n",
    "    plt.bar(adjustments, values, color='skyblue')\n",
    "    plt.title(\"Predicted Adjustments for Soil and Environment\")\n",
    "    plt.ylabel(\"Adjustment Value\")\n",
    "    plt.xticks(rotation=45)\n",
    "    plt.tight_layout()\n",
    "    plt.show()\n"
   ]
  },
  {
   "cell_type": "code",
   "execution_count": 63,
   "metadata": {},
   "outputs": [],
   "source": [
    "def show_all_results(user_input):\n",
    "    import matplotlib.pyplot as plt\n",
    "\n",
    "    # Correct feature order for input only\n",
    "    feature_order = [\n",
    "        'soil_moisture', 'soil_type', 'sunlight_exposure', 'wind_speed', \n",
    "        'co2_concentration', 'organic_matter', 'irrigation_frequency',\n",
    "        'crop_density', 'pest_pressure', 'fertilizer_usage', 'growth_stage',\n",
    "        'urban_area_proximity', 'water_source_type', 'frost_risk',\n",
    "        'water_usage_efficiency', 'crop_label'\n",
    "    ]\n",
    "\n",
    "    # Ensure all required features are present\n",
    "    for feature in feature_order:\n",
    "        if feature not in user_input:\n",
    "            user_input[feature] = 0  # default\n",
    "\n",
    "    # Prepare input\n",
    "    input_data = pd.DataFrame([user_input])[feature_order]\n",
    "    input_data_scaled = scaler.transform(input_data)\n",
    "\n",
    "    # Predict\n",
    "    predicted_adjustments = rf_model.predict(input_data_scaled)[0]\n",
    "\n",
    "    # Display predictions\n",
    "    print(\"\\n📊 Predicted Adjustments Needed:\")\n",
    "    adjustments = ['Nitrogen (N)', 'Phosphorus (P)', 'Potassium (K)', \n",
    "                   'Temperature (°C)', 'Humidity (%)', 'pH', 'Rainfall (mm)']\n",
    "    \n",
    "    for i, value in enumerate(predicted_adjustments):\n",
    "        print(f\"{adjustments[i]}: {value:.2f}\")\n",
    "\n",
    "    # Fertilizer Recommendation\n",
    "    print(\"\\n🧪 Fertilizer Recommendations:\")\n",
    "    n, p, k = predicted_adjustments[:3]\n",
    "    if n > 0:\n",
    "        print(f\"Add Urea: {n * 2:.2f} kg\")\n",
    "    if p > 0:\n",
    "        print(f\"Add DAP: {p * 1.5:.2f} kg\")\n",
    "    if k > 0:\n",
    "        print(f\"Add Muriate of Potash: {k * 2:.2f} kg\")\n",
    "    if n <= 0 and p <= 0 and k <= 0:\n",
    "        print(\"No additional fertilizers needed.\")\n",
    "\n",
    "    # Crop Suggestions\n",
    "    if sum(abs(i) for i in predicted_adjustments[:3]) > 50:\n",
    "        print(\"\\n🌱 Alternative Crop Suggestions:\")\n",
    "        print(\"Try: 'Wheat', 'Barley', or 'Corn'\")\n",
    "    else:\n",
    "        print(\"\\n✅ Soil is suitable for the selected crop.\")\n",
    "\n",
    "    # Visualization\n",
    "    plt.figure(figsize=(10, 6))\n",
    "    plt.bar(adjustments, predicted_adjustments, color='skyblue')\n",
    "    plt.title(\"Predicted Adjustments for Soil and Environmental Parameters\")\n",
    "    plt.ylabel(\"Adjustment Values\")\n",
    "    plt.xlabel(\"Parameters\")\n",
    "    plt.xticks(rotation=45)\n",
    "    plt.tight_layout()\n",
    "    plt.show()\n"
   ]
  },
  {
   "cell_type": "code",
   "execution_count": 64,
   "metadata": {},
   "outputs": [
    {
     "name": "stdout",
     "output_type": "stream",
     "text": [
      "Scaler and label encoder saved.\n"
     ]
    }
   ],
   "source": [
    "import joblib\n",
    "joblib.dump(scaler, 'scaler.pkl')\n",
    "joblib.dump(label_encoder, 'label_encoder.pkl')\n",
    "print(\"Scaler and label encoder saved.\")\n",
    "\n"
   ]
  },
  {
   "cell_type": "code",
   "execution_count": 65,
   "metadata": {},
   "outputs": [],
   "source": [
    "model = joblib.load(\"model.pkl\")  # Ensure 'model.pkl' is in the same folder\n",
    "scaler = joblib.load(\"scaler.pkl\")\n",
    "label_encoder = joblib.load(\"label_encoder.pkl\")\n"
   ]
  },
  {
   "cell_type": "code",
   "execution_count": 66,
   "metadata": {},
   "outputs": [
    {
     "name": "stdout",
     "output_type": "stream",
     "text": [
      "R2: 0.7526591343356596\n"
     ]
    }
   ],
   "source": [
    "from sklearn.metrics import mean_absolute_error, r2_score\n",
    "y_pred = model.predict(X_test)\n",
    "print(\"R2:\", r2_score(y_test, y_pred))\n"
   ]
  },
  {
   "cell_type": "code",
   "execution_count": null,
   "metadata": {},
   "outputs": [],
   "source": []
  }
 ],
 "metadata": {
  "kernelspec": {
   "display_name": "base",
   "language": "python",
   "name": "python3"
  },
  "language_info": {
   "codemirror_mode": {
    "name": "ipython",
    "version": 3
   },
   "file_extension": ".py",
   "mimetype": "text/x-python",
   "name": "python",
   "nbconvert_exporter": "python",
   "pygments_lexer": "ipython3",
   "version": "3.12.7"
  }
 },
 "nbformat": 4,
 "nbformat_minor": 2
}
