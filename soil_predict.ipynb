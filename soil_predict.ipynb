{
 "cells": [
  {
   "cell_type": "code",
   "execution_count": 1,
   "metadata": {},
   "outputs": [
    {
     "name": "stdout",
     "output_type": "stream",
     "text": [
      "First 5 rows:\n",
      "    N   P   K  temperature   humidity        ph    rainfall label  \\\n",
      "0  90  42  43    20.879744  82.002744  6.502985  202.935536  rice   \n",
      "1  85  58  41    21.770462  80.319644  7.038096  226.655537  rice   \n",
      "2  60  55  44    23.004459  82.320763  7.840207  263.964248  rice   \n",
      "3  74  35  40    26.491096  80.158363  6.980401  242.864034  rice   \n",
      "4  78  42  42    20.130175  81.604873  7.628473  262.717340  rice   \n",
      "\n",
      "   soil_moisture  soil_type  ...  organic_matter  irrigation_frequency  \\\n",
      "0      29.446064          2  ...        3.121395                     4   \n",
      "1      12.851183          3  ...        2.142021                     4   \n",
      "2      29.363913          2  ...        1.474974                     1   \n",
      "3      26.207732          3  ...        8.393907                     1   \n",
      "4      28.236236          2  ...        5.202285                     3   \n",
      "\n",
      "   crop_density  pest_pressure  fertilizer_usage  growth_stage  \\\n",
      "0     11.743910      57.607308        188.194958             1   \n",
      "1     16.797101      74.736879         70.963629             1   \n",
      "2     12.654395       1.034478        191.976077             1   \n",
      "3     10.864360      24.091888         55.761388             3   \n",
      "4     13.852910      38.811481        185.259702             2   \n",
      "\n",
      "   urban_area_proximity  water_source_type  frost_risk  water_usage_efficiency  \n",
      "0              2.719614                  3   95.649985                1.193293  \n",
      "1              4.714427                  2   77.265694                1.752672  \n",
      "2             30.431736                  2   18.192168                3.035541  \n",
      "3             10.861071                  3   82.818720                1.273341  \n",
      "4             47.190777                  3   25.466499                2.578671  \n",
      "\n",
      "[5 rows x 23 columns]\n",
      "\n",
      "Column Names:\n",
      "Index(['N', 'P', 'K', 'temperature', 'humidity', 'ph', 'rainfall', 'label',\n",
      "       'soil_moisture', 'soil_type', 'sunlight_exposure', 'wind_speed',\n",
      "       'co2_concentration', 'organic_matter', 'irrigation_frequency',\n",
      "       'crop_density', 'pest_pressure', 'fertilizer_usage', 'growth_stage',\n",
      "       'urban_area_proximity', 'water_source_type', 'frost_risk',\n",
      "       'water_usage_efficiency'],\n",
      "      dtype='object')\n",
      "\n",
      "Dataset Info:\n",
      "<class 'pandas.core.frame.DataFrame'>\n",
      "RangeIndex: 2200 entries, 0 to 2199\n",
      "Data columns (total 23 columns):\n",
      " #   Column                  Non-Null Count  Dtype  \n",
      "---  ------                  --------------  -----  \n",
      " 0   N                       2200 non-null   int64  \n",
      " 1   P                       2200 non-null   int64  \n",
      " 2   K                       2200 non-null   int64  \n",
      " 3   temperature             2200 non-null   float64\n",
      " 4   humidity                2200 non-null   float64\n",
      " 5   ph                      2200 non-null   float64\n",
      " 6   rainfall                2200 non-null   float64\n",
      " 7   label                   2200 non-null   object \n",
      " 8   soil_moisture           2200 non-null   float64\n",
      " 9   soil_type               2200 non-null   int64  \n",
      " 10  sunlight_exposure       2200 non-null   float64\n",
      " 11  wind_speed              2200 non-null   float64\n",
      " 12  co2_concentration       2200 non-null   float64\n",
      " 13  organic_matter          2200 non-null   float64\n",
      " 14  irrigation_frequency    2200 non-null   int64  \n",
      " 15  crop_density            2200 non-null   float64\n",
      " 16  pest_pressure           2200 non-null   float64\n",
      " 17  fertilizer_usage        2200 non-null   float64\n",
      " 18  growth_stage            2200 non-null   int64  \n",
      " 19  urban_area_proximity    2200 non-null   float64\n",
      " 20  water_source_type       2200 non-null   int64  \n",
      " 21  frost_risk              2200 non-null   float64\n",
      " 22  water_usage_efficiency  2200 non-null   float64\n",
      "dtypes: float64(15), int64(7), object(1)\n",
      "memory usage: 395.4+ KB\n",
      "None\n",
      "\n",
      "Summary Statistics:\n",
      "                 N            P            K  temperature     humidity  \\\n",
      "count  2200.000000  2200.000000  2200.000000  2200.000000  2200.000000   \n",
      "mean     50.551818    53.362727    48.149091    25.616244    71.481779   \n",
      "std      36.917334    32.985883    50.647931     5.063749    22.263812   \n",
      "min       0.000000     5.000000     5.000000     8.825675    14.258040   \n",
      "25%      21.000000    28.000000    20.000000    22.769375    60.261953   \n",
      "50%      37.000000    51.000000    32.000000    25.598693    80.473146   \n",
      "75%      84.250000    68.000000    49.000000    28.561654    89.948771   \n",
      "max     140.000000   145.000000   205.000000    43.675493    99.981876   \n",
      "\n",
      "                ph     rainfall  soil_moisture    soil_type  \\\n",
      "count  2200.000000  2200.000000    2200.000000  2200.000000   \n",
      "mean      6.469480   103.463655      20.151388     1.991364   \n",
      "std       0.773938    54.958389       5.793720     0.812263   \n",
      "min       3.504752    20.211267      10.024260     1.000000   \n",
      "25%       5.971693    64.551686      15.179949     1.000000   \n",
      "50%       6.425045    94.867624      20.088481     2.000000   \n",
      "75%       6.923643   124.267508      25.255146     3.000000   \n",
      "max       9.935091   298.560117      29.997860     3.000000   \n",
      "\n",
      "       sunlight_exposure  ...  organic_matter  irrigation_frequency  \\\n",
      "count        2200.000000  ...     2200.000000           2200.000000   \n",
      "mean            8.570609  ...        5.465652              3.515000   \n",
      "std             1.999382  ...        2.605294              1.697912   \n",
      "min             5.000710  ...        1.003338              1.000000   \n",
      "25%             6.904620  ...        3.203903              2.000000   \n",
      "50%             8.609968  ...        5.418049              4.000000   \n",
      "75%            10.220394  ...        7.686417              5.000000   \n",
      "max            11.991041  ...        9.999990              6.000000   \n",
      "\n",
      "       crop_density  pest_pressure  fertilizer_usage  growth_stage  \\\n",
      "count   2200.000000    2200.000000       2200.000000   2200.000000   \n",
      "mean      12.344959      49.850701        125.846403      1.999545   \n",
      "std        4.297494      28.886354         43.564527      0.818999   \n",
      "min        5.004341       0.038103         50.209990      1.000000   \n",
      "25%        8.585734      24.379866         88.030737      1.000000   \n",
      "50%       12.303616      49.982421        126.441536      2.000000   \n",
      "75%       15.975567      74.681904        163.850536      3.000000   \n",
      "max       19.988474      99.983849        199.982166      3.000000   \n",
      "\n",
      "       urban_area_proximity  water_source_type   frost_risk  \\\n",
      "count           2200.000000        2200.000000  2200.000000   \n",
      "mean              24.801013           2.003636    50.304701   \n",
      "std               14.523975           0.812021    28.580352   \n",
      "min                0.017756           1.000000     0.054911   \n",
      "25%               12.212594           1.000000    26.104674   \n",
      "50%               24.922548           2.000000    50.171934   \n",
      "75%               37.322761           3.000000    75.262676   \n",
      "max               49.992046           3.000000    99.957274   \n",
      "\n",
      "       water_usage_efficiency  \n",
      "count             2200.000000  \n",
      "mean                 2.990268  \n",
      "std                  1.139637  \n",
      "min                  1.002106  \n",
      "25%                  2.051814  \n",
      "50%                  2.968675  \n",
      "75%                  3.968736  \n",
      "max                  4.997130  \n",
      "\n",
      "[8 rows x 22 columns]\n"
     ]
    }
   ],
   "source": [
    "import pandas as pd\n",
    "\n",
    "# Load the dataset\n",
    "data = pd.read_csv('Crop_recommendationV2.csv')\n",
    "\n",
    "# Display the first 5 rows\n",
    "print(\"First 5 rows:\")\n",
    "print(data.head())\n",
    "\n",
    "# Check for column names and basic information\n",
    "print(\"\\nColumn Names:\")\n",
    "print(data.columns)\n",
    "\n",
    "print(\"\\nDataset Info:\")\n",
    "print(data.info())\n",
    "\n",
    "print(\"\\nSummary Statistics:\")\n",
    "print(data.describe())\n"
   ]
  },
  {
   "cell_type": "code",
   "execution_count": 2,
   "metadata": {},
   "outputs": [],
   "source": [
    "from sklearn.preprocessing import StandardScaler, LabelEncoder\n",
    "\n",
    "# Handle missing values\n",
    "data = data.dropna()\n",
    "\n",
    "# Encode the 'label' column (crop name)\n",
    "label_encoder = LabelEncoder()\n",
    "data['label'] = label_encoder.fit_transform(data['label'])\n",
    "\n",
    "# Define input features (X) and target (y)\n",
    "X = data.drop(columns=['label'])  # All soil/environment parameters\n",
    "y = data[['N', 'P', 'K', 'temperature', 'humidity', 'ph', 'rainfall']]  # Adjustments needed\n",
    "\n",
    "# Scale the features\n",
    "scaler = StandardScaler()\n",
    "X_scaled = scaler.fit_transform(X)\n"
   ]
  },
  {
   "cell_type": "code",
   "execution_count": 3,
   "metadata": {},
   "outputs": [
    {
     "name": "stdout",
     "output_type": "stream",
     "text": [
      "Training set shape: (1760, 22)\n",
      "Testing set shape: (440, 22)\n"
     ]
    }
   ],
   "source": [
    "from sklearn.model_selection import train_test_split\n",
    "\n",
    "# Train-test split\n",
    "X_train, X_test, y_train, y_test = train_test_split(X_scaled, y, test_size=0.2, random_state=42)\n",
    "\n",
    "print(\"Training set shape:\", X_train.shape)\n",
    "print(\"Testing set shape:\", X_test.shape)\n"
   ]
  },
  {
   "cell_type": "code",
   "execution_count": 4,
   "metadata": {},
   "outputs": [
    {
     "name": "stdout",
     "output_type": "stream",
     "text": [
      "Training Score: 0.9999815718599752\n",
      "Testing Score: 0.9998378668522723\n"
     ]
    }
   ],
   "source": [
    "from sklearn.ensemble import RandomForestRegressor\n",
    "from sklearn.multioutput import MultiOutputRegressor\n",
    "\n",
    "# Initialize and train the model\n",
    "rf_model = MultiOutputRegressor(RandomForestRegressor(n_estimators=100, random_state=42))\n",
    "rf_model.fit(X_train, y_train)\n",
    "\n",
    "# Evaluate the model\n",
    "print(\"Training Score:\", rf_model.score(X_train, y_train))\n",
    "print(\"Testing Score:\", rf_model.score(X_test, y_test))\n"
   ]
  },
  {
   "cell_type": "code",
   "execution_count": 5,
   "metadata": {},
   "outputs": [],
   "source": [
    "import numpy as np\n",
    "\n",
    "def predict_adjustments(user_input):\n",
    "    \"\"\"\n",
    "    Predict adjustments for soil/environment parameters.\n",
    "    Args:\n",
    "        user_input (dict): Soil/environment parameters provided by the user.\n",
    "    \"\"\"\n",
    "    # Convert user input to DataFrame\n",
    "    input_data = pd.DataFrame([user_input])\n",
    "    input_data_scaled = scaler.transform(input_data)  # Scale input data\n",
    "    \n",
    "    # Predict adjustments\n",
    "    predicted_adjustments = rf_model.predict(input_data_scaled)\n",
    "    \n",
    "    # Display the results\n",
    "    print(\"\\nPredicted Adjustments Needed:\")\n",
    "    print(f\"N: {predicted_adjustments[0][0]:.2f}\")\n",
    "    print(f\"P: {predicted_adjustments[0][1]:.2f}\")\n",
    "    print(f\"K: {predicted_adjustments[0][2]:.2f}\")\n",
    "    print(f\"Temperature: {predicted_adjustments[0][3]:.2f}°C\")\n",
    "    print(f\"Humidity: {predicted_adjustments[0][4]:.2f}%\")\n",
    "    print(f\"pH: {predicted_adjustments[0][5]:.2f}\")\n",
    "    print(f\"Rainfall: {predicted_adjustments[0][6]:.2f} mm\")\n"
   ]
  },
  {
   "cell_type": "code",
   "execution_count": 6,
   "metadata": {},
   "outputs": [
    {
     "ename": "ValueError",
     "evalue": "The feature names should match those that were passed during fit.\nFeature names seen at fit time, yet now missing:\n- crop_density\n- fertilizer_usage\n- frost_risk\n- growth_stage\n- irrigation_frequency\n- ...\n",
     "output_type": "error",
     "traceback": [
      "\u001b[1;31m---------------------------------------------------------------------------\u001b[0m",
      "\u001b[1;31mValueError\u001b[0m                                Traceback (most recent call last)",
      "Cell \u001b[1;32mIn[6], line 7\u001b[0m\n\u001b[0;32m      1\u001b[0m user_input \u001b[38;5;241m=\u001b[39m {\n\u001b[0;32m      2\u001b[0m     \u001b[38;5;124m'\u001b[39m\u001b[38;5;124mN\u001b[39m\u001b[38;5;124m'\u001b[39m: \u001b[38;5;241m40\u001b[39m, \u001b[38;5;124m'\u001b[39m\u001b[38;5;124mP\u001b[39m\u001b[38;5;124m'\u001b[39m: \u001b[38;5;241m20\u001b[39m, \u001b[38;5;124m'\u001b[39m\u001b[38;5;124mK\u001b[39m\u001b[38;5;124m'\u001b[39m: \u001b[38;5;241m30\u001b[39m, \u001b[38;5;124m'\u001b[39m\u001b[38;5;124mtemperature\u001b[39m\u001b[38;5;124m'\u001b[39m: \u001b[38;5;241m25\u001b[39m, \u001b[38;5;124m'\u001b[39m\u001b[38;5;124mhumidity\u001b[39m\u001b[38;5;124m'\u001b[39m: \u001b[38;5;241m50\u001b[39m, \u001b[38;5;124m'\u001b[39m\u001b[38;5;124mph\u001b[39m\u001b[38;5;124m'\u001b[39m: \u001b[38;5;241m6.5\u001b[39m,\n\u001b[0;32m      3\u001b[0m     \u001b[38;5;124m'\u001b[39m\u001b[38;5;124mrainfall\u001b[39m\u001b[38;5;124m'\u001b[39m: \u001b[38;5;241m100\u001b[39m, \u001b[38;5;124m'\u001b[39m\u001b[38;5;124msoil_moisture\u001b[39m\u001b[38;5;124m'\u001b[39m: \u001b[38;5;241m30\u001b[39m, \u001b[38;5;124m'\u001b[39m\u001b[38;5;124msunlight_exposure\u001b[39m\u001b[38;5;124m'\u001b[39m: \u001b[38;5;241m5\u001b[39m, \u001b[38;5;124m'\u001b[39m\u001b[38;5;124mwind_speed\u001b[39m\u001b[38;5;124m'\u001b[39m: \u001b[38;5;241m8\u001b[39m,\n\u001b[0;32m      4\u001b[0m     \u001b[38;5;124m'\u001b[39m\u001b[38;5;124mco2_concentration\u001b[39m\u001b[38;5;124m'\u001b[39m: \u001b[38;5;241m400\u001b[39m\n\u001b[0;32m      5\u001b[0m }\n\u001b[1;32m----> 7\u001b[0m \u001b[43mpredict_adjustments\u001b[49m\u001b[43m(\u001b[49m\u001b[43muser_input\u001b[49m\u001b[43m)\u001b[49m\n",
      "Cell \u001b[1;32mIn[5], line 11\u001b[0m, in \u001b[0;36mpredict_adjustments\u001b[1;34m(user_input)\u001b[0m\n\u001b[0;32m      9\u001b[0m \u001b[38;5;66;03m# Convert user input to DataFrame\u001b[39;00m\n\u001b[0;32m     10\u001b[0m input_data \u001b[38;5;241m=\u001b[39m pd\u001b[38;5;241m.\u001b[39mDataFrame([user_input])\n\u001b[1;32m---> 11\u001b[0m input_data_scaled \u001b[38;5;241m=\u001b[39m \u001b[43mscaler\u001b[49m\u001b[38;5;241;43m.\u001b[39;49m\u001b[43mtransform\u001b[49m\u001b[43m(\u001b[49m\u001b[43minput_data\u001b[49m\u001b[43m)\u001b[49m  \u001b[38;5;66;03m# Scale input data\u001b[39;00m\n\u001b[0;32m     13\u001b[0m \u001b[38;5;66;03m# Predict adjustments\u001b[39;00m\n\u001b[0;32m     14\u001b[0m predicted_adjustments \u001b[38;5;241m=\u001b[39m rf_model\u001b[38;5;241m.\u001b[39mpredict(input_data_scaled)\n",
      "File \u001b[1;32m~\\AppData\\Roaming\\Python\\Python312\\site-packages\\sklearn\\utils\\_set_output.py:316\u001b[0m, in \u001b[0;36m_wrap_method_output.<locals>.wrapped\u001b[1;34m(self, X, *args, **kwargs)\u001b[0m\n\u001b[0;32m    314\u001b[0m \u001b[38;5;129m@wraps\u001b[39m(f)\n\u001b[0;32m    315\u001b[0m \u001b[38;5;28;01mdef\u001b[39;00m \u001b[38;5;21mwrapped\u001b[39m(\u001b[38;5;28mself\u001b[39m, X, \u001b[38;5;241m*\u001b[39margs, \u001b[38;5;241m*\u001b[39m\u001b[38;5;241m*\u001b[39mkwargs):\n\u001b[1;32m--> 316\u001b[0m     data_to_wrap \u001b[38;5;241m=\u001b[39m \u001b[43mf\u001b[49m\u001b[43m(\u001b[49m\u001b[38;5;28;43mself\u001b[39;49m\u001b[43m,\u001b[49m\u001b[43m \u001b[49m\u001b[43mX\u001b[49m\u001b[43m,\u001b[49m\u001b[43m \u001b[49m\u001b[38;5;241;43m*\u001b[39;49m\u001b[43margs\u001b[49m\u001b[43m,\u001b[49m\u001b[43m \u001b[49m\u001b[38;5;241;43m*\u001b[39;49m\u001b[38;5;241;43m*\u001b[39;49m\u001b[43mkwargs\u001b[49m\u001b[43m)\u001b[49m\n\u001b[0;32m    317\u001b[0m     \u001b[38;5;28;01mif\u001b[39;00m \u001b[38;5;28misinstance\u001b[39m(data_to_wrap, \u001b[38;5;28mtuple\u001b[39m):\n\u001b[0;32m    318\u001b[0m         \u001b[38;5;66;03m# only wrap the first output for cross decomposition\u001b[39;00m\n\u001b[0;32m    319\u001b[0m         return_tuple \u001b[38;5;241m=\u001b[39m (\n\u001b[0;32m    320\u001b[0m             _wrap_data_with_container(method, data_to_wrap[\u001b[38;5;241m0\u001b[39m], X, \u001b[38;5;28mself\u001b[39m),\n\u001b[0;32m    321\u001b[0m             \u001b[38;5;241m*\u001b[39mdata_to_wrap[\u001b[38;5;241m1\u001b[39m:],\n\u001b[0;32m    322\u001b[0m         )\n",
      "File \u001b[1;32m~\\AppData\\Roaming\\Python\\Python312\\site-packages\\sklearn\\preprocessing\\_data.py:1045\u001b[0m, in \u001b[0;36mStandardScaler.transform\u001b[1;34m(self, X, copy)\u001b[0m\n\u001b[0;32m   1042\u001b[0m check_is_fitted(\u001b[38;5;28mself\u001b[39m)\n\u001b[0;32m   1044\u001b[0m copy \u001b[38;5;241m=\u001b[39m copy \u001b[38;5;28;01mif\u001b[39;00m copy \u001b[38;5;129;01mis\u001b[39;00m \u001b[38;5;129;01mnot\u001b[39;00m \u001b[38;5;28;01mNone\u001b[39;00m \u001b[38;5;28;01melse\u001b[39;00m \u001b[38;5;28mself\u001b[39m\u001b[38;5;241m.\u001b[39mcopy\n\u001b[1;32m-> 1045\u001b[0m X \u001b[38;5;241m=\u001b[39m \u001b[38;5;28;43mself\u001b[39;49m\u001b[38;5;241;43m.\u001b[39;49m\u001b[43m_validate_data\u001b[49m\u001b[43m(\u001b[49m\n\u001b[0;32m   1046\u001b[0m \u001b[43m    \u001b[49m\u001b[43mX\u001b[49m\u001b[43m,\u001b[49m\n\u001b[0;32m   1047\u001b[0m \u001b[43m    \u001b[49m\u001b[43mreset\u001b[49m\u001b[38;5;241;43m=\u001b[39;49m\u001b[38;5;28;43;01mFalse\u001b[39;49;00m\u001b[43m,\u001b[49m\n\u001b[0;32m   1048\u001b[0m \u001b[43m    \u001b[49m\u001b[43maccept_sparse\u001b[49m\u001b[38;5;241;43m=\u001b[39;49m\u001b[38;5;124;43m\"\u001b[39;49m\u001b[38;5;124;43mcsr\u001b[39;49m\u001b[38;5;124;43m\"\u001b[39;49m\u001b[43m,\u001b[49m\n\u001b[0;32m   1049\u001b[0m \u001b[43m    \u001b[49m\u001b[43mcopy\u001b[49m\u001b[38;5;241;43m=\u001b[39;49m\u001b[43mcopy\u001b[49m\u001b[43m,\u001b[49m\n\u001b[0;32m   1050\u001b[0m \u001b[43m    \u001b[49m\u001b[43mdtype\u001b[49m\u001b[38;5;241;43m=\u001b[39;49m\u001b[43mFLOAT_DTYPES\u001b[49m\u001b[43m,\u001b[49m\n\u001b[0;32m   1051\u001b[0m \u001b[43m    \u001b[49m\u001b[43mforce_writeable\u001b[49m\u001b[38;5;241;43m=\u001b[39;49m\u001b[38;5;28;43;01mTrue\u001b[39;49;00m\u001b[43m,\u001b[49m\n\u001b[0;32m   1052\u001b[0m \u001b[43m    \u001b[49m\u001b[43mforce_all_finite\u001b[49m\u001b[38;5;241;43m=\u001b[39;49m\u001b[38;5;124;43m\"\u001b[39;49m\u001b[38;5;124;43mallow-nan\u001b[39;49m\u001b[38;5;124;43m\"\u001b[39;49m\u001b[43m,\u001b[49m\n\u001b[0;32m   1053\u001b[0m \u001b[43m\u001b[49m\u001b[43m)\u001b[49m\n\u001b[0;32m   1055\u001b[0m \u001b[38;5;28;01mif\u001b[39;00m sparse\u001b[38;5;241m.\u001b[39missparse(X):\n\u001b[0;32m   1056\u001b[0m     \u001b[38;5;28;01mif\u001b[39;00m \u001b[38;5;28mself\u001b[39m\u001b[38;5;241m.\u001b[39mwith_mean:\n",
      "File \u001b[1;32m~\\AppData\\Roaming\\Python\\Python312\\site-packages\\sklearn\\base.py:608\u001b[0m, in \u001b[0;36mBaseEstimator._validate_data\u001b[1;34m(self, X, y, reset, validate_separately, cast_to_ndarray, **check_params)\u001b[0m\n\u001b[0;32m    537\u001b[0m \u001b[38;5;28;01mdef\u001b[39;00m \u001b[38;5;21m_validate_data\u001b[39m(\n\u001b[0;32m    538\u001b[0m     \u001b[38;5;28mself\u001b[39m,\n\u001b[0;32m    539\u001b[0m     X\u001b[38;5;241m=\u001b[39m\u001b[38;5;124m\"\u001b[39m\u001b[38;5;124mno_validation\u001b[39m\u001b[38;5;124m\"\u001b[39m,\n\u001b[1;32m   (...)\u001b[0m\n\u001b[0;32m    544\u001b[0m     \u001b[38;5;241m*\u001b[39m\u001b[38;5;241m*\u001b[39mcheck_params,\n\u001b[0;32m    545\u001b[0m ):\n\u001b[0;32m    546\u001b[0m \u001b[38;5;250m    \u001b[39m\u001b[38;5;124;03m\"\"\"Validate input data and set or check the `n_features_in_` attribute.\u001b[39;00m\n\u001b[0;32m    547\u001b[0m \n\u001b[0;32m    548\u001b[0m \u001b[38;5;124;03m    Parameters\u001b[39;00m\n\u001b[1;32m   (...)\u001b[0m\n\u001b[0;32m    606\u001b[0m \u001b[38;5;124;03m        validated.\u001b[39;00m\n\u001b[0;32m    607\u001b[0m \u001b[38;5;124;03m    \"\"\"\u001b[39;00m\n\u001b[1;32m--> 608\u001b[0m     \u001b[38;5;28;43mself\u001b[39;49m\u001b[38;5;241;43m.\u001b[39;49m\u001b[43m_check_feature_names\u001b[49m\u001b[43m(\u001b[49m\u001b[43mX\u001b[49m\u001b[43m,\u001b[49m\u001b[43m \u001b[49m\u001b[43mreset\u001b[49m\u001b[38;5;241;43m=\u001b[39;49m\u001b[43mreset\u001b[49m\u001b[43m)\u001b[49m\n\u001b[0;32m    610\u001b[0m     \u001b[38;5;28;01mif\u001b[39;00m y \u001b[38;5;129;01mis\u001b[39;00m \u001b[38;5;28;01mNone\u001b[39;00m \u001b[38;5;129;01mand\u001b[39;00m \u001b[38;5;28mself\u001b[39m\u001b[38;5;241m.\u001b[39m_get_tags()[\u001b[38;5;124m\"\u001b[39m\u001b[38;5;124mrequires_y\u001b[39m\u001b[38;5;124m\"\u001b[39m]:\n\u001b[0;32m    611\u001b[0m         \u001b[38;5;28;01mraise\u001b[39;00m \u001b[38;5;167;01mValueError\u001b[39;00m(\n\u001b[0;32m    612\u001b[0m             \u001b[38;5;124mf\u001b[39m\u001b[38;5;124m\"\u001b[39m\u001b[38;5;124mThis \u001b[39m\u001b[38;5;132;01m{\u001b[39;00m\u001b[38;5;28mself\u001b[39m\u001b[38;5;241m.\u001b[39m\u001b[38;5;18m__class__\u001b[39m\u001b[38;5;241m.\u001b[39m\u001b[38;5;18m__name__\u001b[39m\u001b[38;5;132;01m}\u001b[39;00m\u001b[38;5;124m estimator \u001b[39m\u001b[38;5;124m\"\u001b[39m\n\u001b[0;32m    613\u001b[0m             \u001b[38;5;124m\"\u001b[39m\u001b[38;5;124mrequires y to be passed, but the target y is None.\u001b[39m\u001b[38;5;124m\"\u001b[39m\n\u001b[0;32m    614\u001b[0m         )\n",
      "File \u001b[1;32m~\\AppData\\Roaming\\Python\\Python312\\site-packages\\sklearn\\base.py:535\u001b[0m, in \u001b[0;36mBaseEstimator._check_feature_names\u001b[1;34m(self, X, reset)\u001b[0m\n\u001b[0;32m    530\u001b[0m \u001b[38;5;28;01mif\u001b[39;00m \u001b[38;5;129;01mnot\u001b[39;00m missing_names \u001b[38;5;129;01mand\u001b[39;00m \u001b[38;5;129;01mnot\u001b[39;00m unexpected_names:\n\u001b[0;32m    531\u001b[0m     message \u001b[38;5;241m+\u001b[39m\u001b[38;5;241m=\u001b[39m (\n\u001b[0;32m    532\u001b[0m         \u001b[38;5;124m\"\u001b[39m\u001b[38;5;124mFeature names must be in the same order as they were in fit.\u001b[39m\u001b[38;5;130;01m\\n\u001b[39;00m\u001b[38;5;124m\"\u001b[39m\n\u001b[0;32m    533\u001b[0m     )\n\u001b[1;32m--> 535\u001b[0m \u001b[38;5;28;01mraise\u001b[39;00m \u001b[38;5;167;01mValueError\u001b[39;00m(message)\n",
      "\u001b[1;31mValueError\u001b[0m: The feature names should match those that were passed during fit.\nFeature names seen at fit time, yet now missing:\n- crop_density\n- fertilizer_usage\n- frost_risk\n- growth_stage\n- irrigation_frequency\n- ...\n"
     ]
    }
   ],
   "source": [
    "user_input = {\n",
    "    'N': 40, 'P': 20, 'K': 30, 'temperature': 25, 'humidity': 50, 'ph': 6.5,\n",
    "    'rainfall': 100, 'soil_moisture': 30, 'sunlight_exposure': 5, 'wind_speed': 8,\n",
    "    'co2_concentration': 400\n",
    "}\n",
    "\n",
    "predict_adjustments(user_input)\n"
   ]
  },
  {
   "cell_type": "code",
   "execution_count": 7,
   "metadata": {},
   "outputs": [
    {
     "name": "stdout",
     "output_type": "stream",
     "text": [
      "Features used during training:\n",
      "Index(['N', 'P', 'K', 'temperature', 'humidity', 'ph', 'rainfall', 'label',\n",
      "       'soil_moisture', 'soil_type', 'sunlight_exposure', 'wind_speed',\n",
      "       'co2_concentration', 'organic_matter', 'irrigation_frequency',\n",
      "       'crop_density', 'pest_pressure', 'fertilizer_usage', 'growth_stage',\n",
      "       'urban_area_proximity', 'water_source_type', 'frost_risk',\n",
      "       'water_usage_efficiency'],\n",
      "      dtype='object')\n"
     ]
    }
   ],
   "source": [
    "print(\"Features used during training:\")\n",
    "print(data.columns)\n"
   ]
  },
  {
   "cell_type": "code",
   "execution_count": 8,
   "metadata": {},
   "outputs": [],
   "source": [
    "def predict_adjustments(user_input):\n",
    "    \"\"\"\n",
    "    Predict adjustments for soil/environment parameters.\n",
    "    Args:\n",
    "        user_input (dict): Soil/environment parameters provided by the user.\n",
    "    \"\"\"\n",
    "    # Define the complete list of features based on the training dataset\n",
    "    feature_order = ['N', 'P', 'K', 'temperature', 'humidity', 'ph', 'rainfall', \n",
    "                     'soil_moisture', 'soil_type', 'sunlight_exposure', 'wind_speed',\n",
    "                     'co2_concentration', 'organic_matter', 'irrigation_frequency',\n",
    "                     'crop_density', 'pest_pressure', 'fertilizer_usage', 'growth_stage',\n",
    "                     'urban_area_proximity', 'water_source_type', 'frost_risk', \n",
    "                     'water_usage_efficiency']\n",
    "\n",
    "    # Ensure all missing features are filled with 0 or default values\n",
    "    for feature in feature_order:\n",
    "        if feature not in user_input:\n",
    "            user_input[feature] = 0  # Fill with 0 if the feature is missing\n",
    "    \n",
    "    # Convert user input to DataFrame and reorder columns\n",
    "    input_data = pd.DataFrame([user_input])\n",
    "    input_data = input_data[feature_order]  # Reorder columns to match training features\n",
    "    \n",
    "    # Scale the input data\n",
    "    input_data_scaled = scaler.transform(input_data)\n",
    "    \n",
    "    # Predict adjustments\n",
    "    predicted_adjustments = rf_model.predict(input_data_scaled)\n",
    "    \n",
    "    # Display the results\n",
    "    print(\"\\nPredicted Adjustments Needed:\")\n",
    "    print(f\"N: {predicted_adjustments[0][0]:.2f}\")\n",
    "    print(f\"P: {predicted_adjustments[0][1]:.2f}\")\n",
    "    print(f\"K: {predicted_adjustments[0][2]:.2f}\")\n",
    "    print(f\"Temperature: {predicted_adjustments[0][3]:.2f}°C\")\n",
    "    print(f\"Humidity: {predicted_adjustments[0][4]:.2f}%\")\n",
    "    print(f\"pH: {predicted_adjustments[0][5]:.2f}\")\n",
    "    print(f\"Rainfall: {predicted_adjustments[0][6]:.2f} mm\")\n"
   ]
  },
  {
   "cell_type": "code",
   "execution_count": 9,
   "metadata": {},
   "outputs": [],
   "source": [
    "user_input = {\n",
    "    'N': 40, 'P': 20, 'K': 30, 'temperature': 25, 'humidity': 50, 'ph': 6.5,\n",
    "    'rainfall': 100, 'soil_moisture': 30, 'soil_type': 1, 'sunlight_exposure': 5, \n",
    "    'wind_speed': 8, 'co2_concentration': 400, 'organic_matter': 3, \n",
    "    'irrigation_frequency': 2, 'crop_density': 10, 'pest_pressure': 0, \n",
    "    'fertilizer_usage': 100, 'growth_stage': 1, 'urban_area_proximity': 2, \n",
    "    'water_source_type': 1, 'frost_risk': 0, 'water_usage_efficiency': 1\n",
    "}\n"
   ]
  },
  {
   "cell_type": "code",
   "execution_count": 10,
   "metadata": {},
   "outputs": [
    {
     "name": "stdout",
     "output_type": "stream",
     "text": [
      "\n",
      "Predicted Adjustments Needed:\n",
      "N: 40.00\n",
      "P: 20.00\n",
      "K: 30.00\n",
      "Temperature: 25.00°C\n",
      "Humidity: 50.05%\n",
      "pH: 6.50\n",
      "Rainfall: 100.03 mm\n"
     ]
    }
   ],
   "source": [
    "predict_adjustments(user_input)\n"
   ]
  },
  {
   "cell_type": "code",
   "execution_count": 11,
   "metadata": {},
   "outputs": [],
   "source": [
    "def recommend_fertilizer(predicted_adjustments):\n",
    "    n, p, k = predicted_adjustments[0][0], predicted_adjustments[0][1], predicted_adjustments[0][2]\n",
    "    print(\"\\nFertilizer Recommendations:\")\n",
    "    if n > 0:\n",
    "        print(f\"Add Urea: {n * 2} kg (to increase Nitrogen)\")\n",
    "    if p > 0:\n",
    "        print(f\"Add DAP: {p * 1.5} kg (to increase Phosphorus)\")\n",
    "    if k > 0:\n",
    "        print(f\"Add Muriate of Potash: {k * 2} kg (to increase Potassium)\")\n"
   ]
  },
  {
   "cell_type": "code",
   "execution_count": 12,
   "metadata": {},
   "outputs": [],
   "source": [
    "def suggest_alternative_crops(user_input, predicted_adjustments):\n",
    "    if sum(abs(i) for i in predicted_adjustments[0][:3]) > 50:  # If adjustments are high\n",
    "        print(\"\\nAlternative Crop Suggestions:\")\n",
    "        print(\"Based on current soil, you can grow: 'Wheat', 'Barley', or 'Corn'\")\n"
   ]
  },
  {
   "cell_type": "code",
   "execution_count": 13,
   "metadata": {},
   "outputs": [],
   "source": [
    "def recommend_irrigation(soil_moisture, rainfall):\n",
    "    print(\"\\nIrrigation Recommendations:\")\n",
    "    if soil_moisture < 20:\n",
    "        print(\"Irrigate immediately using drip irrigation.\")\n",
    "    elif rainfall > 50:\n",
    "        print(\"No irrigation needed; rainfall is sufficient.\")\n"
   ]
  },
  {
   "cell_type": "code",
   "execution_count": 14,
   "metadata": {},
   "outputs": [],
   "source": [
    "import matplotlib.pyplot as plt\n",
    "\n",
    "def visualize_adjustments(predicted_adjustments):\n",
    "    adjustments = ['Nitrogen', 'Phosphorus', 'Potassium', 'Temperature', 'Humidity', 'pH', 'Rainfall']\n",
    "    values = predicted_adjustments[0]\n",
    "    \n",
    "    plt.figure(figsize=(10, 6))\n",
    "    plt.bar(adjustments, values, color='skyblue')\n",
    "    plt.title(\"Predicted Adjustments for Soil and Environment\")\n",
    "    plt.ylabel(\"Adjustment Value\")\n",
    "    plt.show()\n"
   ]
  },
  {
   "cell_type": "code",
   "execution_count": 15,
   "metadata": {},
   "outputs": [],
   "source": [
    "import pandas as pd\n",
    "import numpy as np\n",
    "import matplotlib.pyplot as plt\n",
    "\n",
    "def show_all_results(user_input):\n",
    "    \"\"\"\n",
    "    Displays predicted adjustments, fertilizer recommendations, alternative crops,\n",
    "    and visualizations for the user's input.\n",
    "    Args:\n",
    "        user_input (dict): Soil and environmental parameters provided by the user.\n",
    "    \"\"\"\n",
    "    # List of features (to align input with training data)\n",
    "    feature_order = ['N', 'P', 'K', 'temperature', 'humidity', 'ph', 'rainfall', \n",
    "                     'soil_moisture', 'soil_type', 'sunlight_exposure', 'wind_speed',\n",
    "                     'co2_concentration', 'organic_matter', 'irrigation_frequency',\n",
    "                     'crop_density', 'pest_pressure', 'fertilizer_usage', 'growth_stage',\n",
    "                     'urban_area_proximity', 'water_source_type', 'frost_risk', \n",
    "                     'water_usage_efficiency']\n",
    "\n",
    "    # Ensure all missing features are filled with 0\n",
    "    for feature in feature_order:\n",
    "        if feature not in user_input:\n",
    "            user_input[feature] = 0  # Default value\n",
    "    \n",
    "    # Convert user input to DataFrame and reorder columns\n",
    "    input_data = pd.DataFrame([user_input])\n",
    "    input_data = input_data[feature_order]  # Match order of features\n",
    "    \n",
    "    # Scale input data\n",
    "    input_data_scaled = scaler.transform(input_data)\n",
    "    \n",
    "    # Predict adjustments\n",
    "    predicted_adjustments = rf_model.predict(input_data_scaled)\n",
    "    \n",
    "    # Display predicted adjustments\n",
    "    print(\"\\nPredicted Adjustments Needed:\")\n",
    "    adjustments = ['Nitrogen (N)', 'Phosphorus (P)', 'Potassium (K)', \n",
    "                   'Temperature (°C)', 'Humidity (%)', 'pH', 'Rainfall (mm)']\n",
    "    \n",
    "    for i, value in enumerate(predicted_adjustments[0]):\n",
    "        print(f\"{adjustments[i]}: {value:.2f}\")\n",
    "    \n",
    "    # Fertilizer Recommendations\n",
    "    print(\"\\nFertilizer Recommendations:\")\n",
    "    n, p, k = predicted_adjustments[0][0], predicted_adjustments[0][1], predicted_adjustments[0][2]\n",
    "    if n > 0:\n",
    "        print(f\"Add Urea: {n * 2:.2f} kg (to increase Nitrogen)\")\n",
    "    if p > 0:\n",
    "        print(f\"Add DAP: {p * 1.5:.2f} kg (to increase Phosphorus)\")\n",
    "    if k > 0:\n",
    "        print(f\"Add Muriate of Potash: {k * 2:.2f} kg (to increase Potassium)\")\n",
    "    if n <= 0 and p <= 0 and k <= 0:\n",
    "        print(\"No additional fertilizers needed for N, P, or K.\")\n",
    "    \n",
    "    # Alternative Crop Suggestions\n",
    "    if sum(abs(i) for i in predicted_adjustments[0][:3]) > 50:  # Threshold for adjustments\n",
    "        print(\"\\nAlternative Crop Suggestions:\")\n",
    "        print(\"The current soil is not ideal for this crop. You can consider growing 'Wheat', 'Barley', or 'Corn'.\")\n",
    "    else:\n",
    "        print(\"\\nThe soil is suitable for the selected crop.\")\n",
    "\n",
    "    # Visualization of adjustments\n",
    "    plt.figure(figsize=(10, 6))\n",
    "    plt.bar(adjustments, predicted_adjustments[0], color='skyblue')\n",
    "    plt.title(\"Predicted Adjustments for Soil and Environmental Parameters\")\n",
    "    plt.ylabel(\"Adjustment Values\")\n",
    "    plt.xlabel(\"Parameters\")\n",
    "    plt.xticks(rotation=45)\n",
    "    plt.show()\n"
   ]
  },
  {
   "cell_type": "code",
   "execution_count": 16,
   "metadata": {},
   "outputs": [
    {
     "name": "stdout",
     "output_type": "stream",
     "text": [
      "Model saved as model.pkl\n"
     ]
    }
   ],
   "source": [
    "import joblib\n",
    "\n",
    "# Save the trained model\n",
    "joblib.dump(rf_model, 'model.pkl')  # For Random Forest\n",
    "print(\"Model saved as model.pkl\")\n"
   ]
  },
  {
   "cell_type": "code",
   "execution_count": 17,
   "metadata": {},
   "outputs": [],
   "source": [
    "model = joblib.load(\"model.pkl\")  # Ensure 'model.pkl' is in the same folder\n"
   ]
  },
  {
   "cell_type": "code",
   "execution_count": null,
   "metadata": {},
   "outputs": [],
   "source": []
  }
 ],
 "metadata": {
  "kernelspec": {
   "display_name": "Python 3",
   "language": "python",
   "name": "python3"
  },
  "language_info": {
   "codemirror_mode": {
    "name": "ipython",
    "version": 3
   },
   "file_extension": ".py",
   "mimetype": "text/x-python",
   "name": "python",
   "nbconvert_exporter": "python",
   "pygments_lexer": "ipython3",
   "version": "3.12.6"
  }
 },
 "nbformat": 4,
 "nbformat_minor": 2
}
